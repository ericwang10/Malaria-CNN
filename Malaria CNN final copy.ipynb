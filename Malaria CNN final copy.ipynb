{
 "cells": [
  {
   "cell_type": "code",
   "execution_count": null,
   "metadata": {},
   "outputs": [],
   "source": [
    "import keras #for Convolutional neural networks\n",
    "from keras.models import Sequential\n",
    "from keras.layers import Dense, Dropout, Flatten\n",
    "from keras.layers import Conv2D, MaxPooling2D\n",
    "import numpy as np\n",
    "import cv2 #helps read images \n",
    "import os \n",
    "import glob #for file related functions\n",
    "from matplotlib import pyplot as plt\n",
    "from sklearn.model_selection import train_test_split"
   ]
  },
  {
   "cell_type": "code",
   "execution_count": null,
   "metadata": {},
   "outputs": [],
   "source": [
    "uninfected_images = [] #these lists are just for visualizing data \n",
    "uninfected_labels = [] #they could technically go inside the method, but I am graphing the data beforehand \n",
    "infected_images = []\n",
    "infected_labels = []\n",
    "def prepData(): #function that prepares my data \n",
    "\n",
    "    for file in glob.glob(\"cell_images/Uninfected/*.png\"): #reads all the data files within the uninfected folder\n",
    "        file = cv2.imread(file)\n",
    "        file = cv2.resize(file, (81,81)) #resizes image to be 81x81\n",
    "        uninfected_images.append(file) #adds it to the uninfected list\n",
    "        uninfected_labels.append(0) #labels uninfected cell as 0 for training\n",
    "    print(len(uninfected_images),\"files read for uninfected\")\n",
    "    \n",
    "    \n",
    "    for file in glob.glob(\"cell_images/Parasitized/*.png\"): #reads all the data files within the infected folder\n",
    "        file = cv2.imread(file)\n",
    "        file = cv2.resize(file, (81,81))\n",
    "        infected_images.append(file)\n",
    "        infected_labels.append(1) #labels infected cell as 1 for training\n",
    "    print(len(infected_images), \"files read for infected\")\n",
    "    \n",
    "    images = uninfected_images + infected_images #combine the uninfected images and the infected images into a single dataset\n",
    "    labels = uninfected_labels + infected_labels #do the same for our labels \n",
    "    \n",
    "    #split the dataset into 66% test 33% train \n",
    "    image_train, image_test, label_train, label_test = train_test_split(images, labels, test_size = 0.33) \n",
    "    \n",
    "    #convert all of this to numpy array \n",
    "    image_train = np.array(image_train) \n",
    "    image_test = np.array(image_test)\n",
    "    label_train = np.array(label_train)\n",
    "    label_test = np.array(label_test)\n",
    "    \n",
    "    return image_train, image_test, label_train, label_test #return the arrays ready for training and testing"
   ]
  },
  {
   "cell_type": "code",
   "execution_count": null,
   "metadata": {},
   "outputs": [],
   "source": [
    "image_train, image_test, label_train, label_test = prepData() #assign variables from our prepdata function"
   ]
  },
  {
   "cell_type": "code",
   "execution_count": null,
   "metadata": {},
   "outputs": [],
   "source": [
    "plt.subplot(1, 2, 1), plt.imshow(cv2.cvtColor(uninfected_images[0], cv2.COLOR_BGR2RGB)) #plotting a healthy and infected cell\n",
    "plt.subplot(1, 2, 2), plt.imshow(cv2.cvtColor(infected_images[0], cv2.COLOR_BGR2RGB)) #just to see what they look like"
   ]
  },
  {
   "cell_type": "code",
   "execution_count": null,
   "metadata": {},
   "outputs": [],
   "source": [
    "#imports for building the convolutional neural network\n",
    "from keras.layers import Convolution2D, MaxPool2D, Flatten, Dense, BatchNormalization, Dropout\n",
    "from keras.layers import MaxPooling2D\n",
    "from keras.models import Sequential\n",
    "from keras import optimizers\n",
    "from keras import layers\n"
   ]
  },
  {
   "cell_type": "code",
   "execution_count": null,
   "metadata": {},
   "outputs": [],
   "source": [
    "# Initialising the CNN\n",
    "model = Sequential()\n",
    "# Create convolutional layer. A 3x3 window will sweep through the input matrix. 32 output filters for the layer\n",
    "# input shape is the 81 x 81 image x 3 for red, green, blue\n",
    "model.add(layers.Conv2D(32, (3, 3), activation = 'relu', input_shape=(81 ,81, 3))) \n",
    "# Pooling layer, max pooling or grabbing the max value found in a 2x2 window  \n",
    "model.add(layers.MaxPooling2D((2, 2)))\n",
    "# Convolutional layer\n",
    "model.add(layers.Conv2D(32, (3, 3), activation = 'relu', input_shape = (64 ,64,  3)))\n",
    "# Pooling layer\n",
    "model.add(layers.MaxPooling2D((2, 2)))\n",
    "# Adding a second convolutional layer with 64 filters\n",
    "model.add(layers.Conv2D(64, (3, 3), activation = 'relu', input_shape = (64 ,64,  3)))\n",
    "# Second pooling layer\n",
    "model.add(layers.MaxPooling2D((2, 2)))\n",
    "# Adding a third convolutional layer with 128 filters\n",
    "model.add(layers.Conv2D(128, (3, 3), activation = 'relu', input_shape = (64 ,64,  3)))\n",
    "# Third pooling layer\n",
    "model.add(layers.MaxPooling2D((2, 2)))\n",
    "# Flattening and turning inputs into a single one dimension matrix \n",
    "model.add(layers.Flatten())\n",
    "# Fully connected layer. This is the neural network portion where nodes are trained through backpropagation \n",
    "model.add(layers.Dense(units = 512, activation = 'relu'))\n",
    "model.add(layers.Dense(units = 1, activation = 'sigmoid')) #sigmoid activation for binary classification for output node\n",
    "model.compile(loss = 'binary_crossentropy', # 2 class label problem, use binary cross entropy\n",
    "              optimizer = 'adam',\n",
    "              metrics = ['accuracy'])"
   ]
  },
  {
   "cell_type": "code",
   "execution_count": null,
   "metadata": {},
   "outputs": [],
   "source": [
    "model.summary() #this gives a summary of what goes on throughout the model "
   ]
  },
  {
   "cell_type": "code",
   "execution_count": null,
   "metadata": {},
   "outputs": [],
   "source": [
    "#begin training model\n",
    "history = model.fit(np.array(image_train), #take our image training dataset \n",
    "                         label_train, #input our labels or \"correct answers\" for training dataset \n",
    "                         batch_size = 64, #number of training examples in one pass\n",
    "                         epochs = 10, #run through dataset foward and backwards 10 times \n",
    "                         validation_split = 0.1) #split of training dataset that will become validation dataset"
   ]
  },
  {
   "cell_type": "code",
   "execution_count": null,
   "metadata": {},
   "outputs": [],
   "source": [
    "results = model.evaluate(image_test,label_test,batch_size = 128) #test our results"
   ]
  },
  {
   "cell_type": "code",
   "execution_count": null,
   "metadata": {},
   "outputs": [],
   "source": [
    "#import confusion matrix method\n",
    "from sklearn.metrics import confusion_matrix"
   ]
  },
  {
   "cell_type": "code",
   "execution_count": null,
   "metadata": {
    "scrolled": true
   },
   "outputs": [],
   "source": [
    "#predict every image in our test data set\n",
    "y_pred = model.predict(image_test)\n",
    "print(y_pred)"
   ]
  },
  {
   "cell_type": "code",
   "execution_count": null,
   "metadata": {},
   "outputs": [],
   "source": [
    "#since model returns probabilities, we want to turn probabilities into a label, either 0 or 1 \n",
    "categorized_y_pred = []\n",
    "for pred in y_pred:\n",
    "    if pred>0.5: #if the probability is greater than 0.5, then we assume it is classified as label 1\n",
    "        pred = 1\n",
    "    else: #if the probability is less than 0.5, we assume it is classified as label 0\n",
    "        pred = 0\n",
    "    categorized_y_pred.append(pred)\n",
    "#print(categorized_y_pred)"
   ]
  },
  {
   "cell_type": "code",
   "execution_count": null,
   "metadata": {},
   "outputs": [],
   "source": [
    "conf_matrix = confusion_matrix(label_test, categorized_y_pred) #make our confusion matrix \n",
    "#print(conf_matrix)"
   ]
  },
  {
   "cell_type": "code",
   "execution_count": null,
   "metadata": {},
   "outputs": [],
   "source": [
    "#formatting our confusion matrix so we can have total numbers as well as normalized data\n",
    "totalcm = np.char.add(\"(\", conf_matrix.astype(\"str\")) \n",
    "totalcm = np.char.add(totalcm, \") \")\n",
    "ncm = conf_matrix.astype('float') / conf_matrix.sum(axis=1)[:, np.newaxis] # creating normalized confusion matrix \n",
    "labels = (np.asarray([\"{0}\\n{1:.2f}\".format(totalcm,ncm) for totalcm,\n",
    "                       ncm in zip(totalcm.flatten(),\n",
    "                       ncm.flatten())])).reshape(2,2)"
   ]
  },
  {
   "cell_type": "code",
   "execution_count": null,
   "metadata": {},
   "outputs": [],
   "source": [
    "#we need to manually make a confusion matrix since we can't input our classifier into the plot function\n",
    "import seaborn as sns\n",
    "import pandas as pd\n",
    "import matplotlib.pyplot as plt\n",
    "ax= plt.subplot()\n",
    "sns.heatmap(ncm, annot=labels, ax = ax, fmt='', cmap='Reds'); #annotate our cells with the labels\n",
    "\n",
    "# add our graph titles and other settings\n",
    "ax.set_xlabel('Predicted labels');ax.set_ylabel('True labels'); \n",
    "ax.set_title('Confusion Matrix'); \n",
    "ax.xaxis.set_ticklabels(['Healthy', 'Parasitized']); ax.yaxis.set_ticklabels(['Healthy', 'Parasitized']);\n"
   ]
  },
  {
   "cell_type": "code",
   "execution_count": null,
   "metadata": {},
   "outputs": [],
   "source": [
    "#plotting some accuracy information from our model training \n",
    "plt.plot(history.history['accuracy'])\n",
    "plt.plot(history.history['val_accuracy'])\n",
    "plt.title('model accuracy')\n",
    "plt.ylabel('accuracy')\n",
    "plt.xlabel('epoch')\n",
    "plt.legend(['train', 'val'], loc='upper left')\n",
    "plt.show()"
   ]
  },
  {
   "cell_type": "code",
   "execution_count": null,
   "metadata": {},
   "outputs": [],
   "source": [
    "#plotting some test image data and using our model to predict it\n",
    "#image 0 is an infected cell, image 1 is a healthy cell \n",
    "#if the prediction probability for label 1 is low, then we assume it is label 0 \n",
    "plt.subplot(1, 2, 1), plt.imshow(cv2.cvtColor(image_test[0], cv2.COLOR_BGR2RGB))\n",
    "plt.subplot(1, 2, 2), plt.imshow(cv2.cvtColor(image_test[1], cv2.COLOR_BGR2RGB))\n",
    "print(\"prediction probability of label 1 (infected) for image 1\", model.predict(image_test[0].reshape(-1,81,81,3)))\n",
    "print(\"prediction probability of label 1 (infected) for image 2\",model.predict(image_test[1].reshape(-1,81,81,3)))"
   ]
  }
 ],
 "metadata": {
  "kernelspec": {
   "display_name": "Python 3",
   "language": "python",
   "name": "python3"
  },
  "language_info": {
   "codemirror_mode": {
    "name": "ipython",
    "version": 3
   },
   "file_extension": ".py",
   "mimetype": "text/x-python",
   "name": "python",
   "nbconvert_exporter": "python",
   "pygments_lexer": "ipython3",
   "version": "3.8.3"
  }
 },
 "nbformat": 4,
 "nbformat_minor": 4
}
